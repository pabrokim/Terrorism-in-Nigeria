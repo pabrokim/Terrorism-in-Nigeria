{
 "cells": [
  {
   "cell_type": "code",
   "execution_count": 2,
   "id": "73dab0ee-fa7b-4a23-9ed4-709f766c3cc3",
   "metadata": {},
   "outputs": [],
   "source": [
    "#import libraries\n",
    "import pandas as pd\n",
    "import matplotlib.pyplot as plt"
   ]
  },
  {
   "cell_type": "code",
   "execution_count": 44,
   "id": "8b219f0d-ef95-49f2-9d48-c938b3cb2ab6",
   "metadata": {},
   "outputs": [],
   "source": [
    "#Read and Wrangle data\n",
    "def wrangle(filepath):\n",
    "\n",
    "    #read excel into a dataframe\n",
    "    df = pd.read_excel(filepath)\n",
    "    #drop missing values\n",
    "    df.dropna(inplace=True)\n",
    "    #drop columns\n",
    "    drop_cols = [\n",
    "        'eventid', 'iyear', 'imonth', 'iday', 'country_txt', 'region_txt', \n",
    "        'provstate', 'city', 'latitude', 'longitude', 'attacktype1_txt', \n",
    "        'targtype1_txt', 'weaptype1_txt', 'gname', 'nwound'\n",
    "    ]\n",
    "    df.drop(columns=drop_cols, inplace=True)\n",
    "\n",
    "    return df"
   ]
  },
  {
   "cell_type": "code",
   "execution_count": 45,
   "id": "495353bf-bb8d-428f-b2e0-ce5a3b5fbe7c",
   "metadata": {},
   "outputs": [
    {
     "name": "stdout",
     "output_type": "stream",
     "text": [
      "Shape: (4220, 6)\n",
      "<class 'pandas.core.frame.DataFrame'>\n",
      "Index: 4220 entries, 0 to 5997\n",
      "Data columns (total 6 columns):\n",
      " #   Column       Non-Null Count  Dtype  \n",
      "---  ------       --------------  -----  \n",
      " 0   success      4220 non-null   int64  \n",
      " 1   suicide      4220 non-null   int64  \n",
      " 2   attacktype1  4220 non-null   int64  \n",
      " 3   targtype1    4220 non-null   int64  \n",
      " 4   weaptype1    4220 non-null   int64  \n",
      " 5   nkill        4220 non-null   float64\n",
      "dtypes: float64(1), int64(5)\n",
      "memory usage: 230.8 KB\n"
     ]
    }
   ],
   "source": [
    "df = wrangle(\"Nigeria_terrorist_data.xlsx\")\n",
    "print(\"Shape:\", df.shape)\n",
    "df.info()"
   ]
  },
  {
   "cell_type": "code",
   "execution_count": 46,
   "id": "093d658f-7bd4-4df5-8de8-2a247da92a11",
   "metadata": {},
   "outputs": [
    {
     "data": {
      "text/html": [
       "<div>\n",
       "<style scoped>\n",
       "    .dataframe tbody tr th:only-of-type {\n",
       "        vertical-align: middle;\n",
       "    }\n",
       "\n",
       "    .dataframe tbody tr th {\n",
       "        vertical-align: top;\n",
       "    }\n",
       "\n",
       "    .dataframe thead th {\n",
       "        text-align: right;\n",
       "    }\n",
       "</style>\n",
       "<table border=\"1\" class=\"dataframe\">\n",
       "  <thead>\n",
       "    <tr style=\"text-align: right;\">\n",
       "      <th></th>\n",
       "      <th>success</th>\n",
       "      <th>suicide</th>\n",
       "      <th>attacktype1</th>\n",
       "      <th>targtype1</th>\n",
       "      <th>weaptype1</th>\n",
       "      <th>nkill</th>\n",
       "    </tr>\n",
       "  </thead>\n",
       "  <tbody>\n",
       "    <tr>\n",
       "      <th>0</th>\n",
       "      <td>1</td>\n",
       "      <td>0</td>\n",
       "      <td>1</td>\n",
       "      <td>2</td>\n",
       "      <td>5</td>\n",
       "      <td>3.0</td>\n",
       "    </tr>\n",
       "    <tr>\n",
       "      <th>3</th>\n",
       "      <td>1</td>\n",
       "      <td>0</td>\n",
       "      <td>1</td>\n",
       "      <td>2</td>\n",
       "      <td>13</td>\n",
       "      <td>1.0</td>\n",
       "    </tr>\n",
       "    <tr>\n",
       "      <th>4</th>\n",
       "      <td>0</td>\n",
       "      <td>0</td>\n",
       "      <td>1</td>\n",
       "      <td>2</td>\n",
       "      <td>5</td>\n",
       "      <td>0.0</td>\n",
       "    </tr>\n",
       "    <tr>\n",
       "      <th>5</th>\n",
       "      <td>1</td>\n",
       "      <td>0</td>\n",
       "      <td>1</td>\n",
       "      <td>7</td>\n",
       "      <td>5</td>\n",
       "      <td>1.0</td>\n",
       "    </tr>\n",
       "    <tr>\n",
       "      <th>6</th>\n",
       "      <td>1</td>\n",
       "      <td>0</td>\n",
       "      <td>1</td>\n",
       "      <td>8</td>\n",
       "      <td>5</td>\n",
       "      <td>3.0</td>\n",
       "    </tr>\n",
       "  </tbody>\n",
       "</table>\n",
       "</div>"
      ],
      "text/plain": [
       "   success  suicide  attacktype1  targtype1  weaptype1  nkill\n",
       "0        1        0            1          2          5    3.0\n",
       "3        1        0            1          2         13    1.0\n",
       "4        0        0            1          2          5    0.0\n",
       "5        1        0            1          7          5    1.0\n",
       "6        1        0            1          8          5    3.0"
      ]
     },
     "execution_count": 46,
     "metadata": {},
     "output_type": "execute_result"
    }
   ],
   "source": [
    "df.head()"
   ]
  },
  {
   "cell_type": "code",
   "execution_count": 14,
   "id": "4c3fac8c-fbbe-4d2d-a4c1-12a86852d497",
   "metadata": {},
   "outputs": [
    {
     "data": {
      "text/plain": [
       "Index(['eventid', 'iyear', 'imonth', 'iday', 'country_txt', 'region_txt',\n",
       "       'provstate', 'city', 'latitude', 'longitude', 'success', 'suicide',\n",
       "       'attacktype1', 'attacktype1_txt', 'targtype1', 'targtype1_txt', 'gname',\n",
       "       'weaptype1', 'weaptype1_txt', 'nkill', 'nwound'],\n",
       "      dtype='object')"
      ]
     },
     "execution_count": 14,
     "metadata": {},
     "output_type": "execute_result"
    }
   ],
   "source": [
    "df.columns\n"
   ]
  },
  {
   "cell_type": "code",
   "execution_count": 19,
   "id": "e79dfe6b-7ad7-4dfc-8f5c-a890fb9ac699",
   "metadata": {},
   "outputs": [],
   "source": [
    "for column in df.columns:\n",
    "    if column.endswith(\"_txt\"):\n",
    "        df.dropna(inplace=True)"
   ]
  },
  {
   "cell_type": "code",
   "execution_count": 42,
   "id": "8db76874-ee93-4157-bd39-2b753cb582a5",
   "metadata": {},
   "outputs": [
    {
     "data": {
      "text/html": [
       "<div>\n",
       "<style scoped>\n",
       "    .dataframe tbody tr th:only-of-type {\n",
       "        vertical-align: middle;\n",
       "    }\n",
       "\n",
       "    .dataframe tbody tr th {\n",
       "        vertical-align: top;\n",
       "    }\n",
       "\n",
       "    .dataframe thead th {\n",
       "        text-align: right;\n",
       "    }\n",
       "</style>\n",
       "<table border=\"1\" class=\"dataframe\">\n",
       "  <thead>\n",
       "    <tr style=\"text-align: right;\">\n",
       "      <th></th>\n",
       "      <th>eventid</th>\n",
       "      <th>iyear</th>\n",
       "      <th>imonth</th>\n",
       "      <th>iday</th>\n",
       "      <th>country_txt</th>\n",
       "      <th>region_txt</th>\n",
       "      <th>provstate</th>\n",
       "      <th>city</th>\n",
       "      <th>latitude</th>\n",
       "      <th>longitude</th>\n",
       "      <th>...</th>\n",
       "      <th>suicide</th>\n",
       "      <th>attacktype1</th>\n",
       "      <th>attacktype1_txt</th>\n",
       "      <th>targtype1</th>\n",
       "      <th>targtype1_txt</th>\n",
       "      <th>gname</th>\n",
       "      <th>weaptype1</th>\n",
       "      <th>weaptype1_txt</th>\n",
       "      <th>nkill</th>\n",
       "      <th>nwound</th>\n",
       "    </tr>\n",
       "  </thead>\n",
       "  <tbody>\n",
       "    <tr>\n",
       "      <th>0</th>\n",
       "      <td>197602130003</td>\n",
       "      <td>1976</td>\n",
       "      <td>2</td>\n",
       "      <td>13</td>\n",
       "      <td>Nigeria</td>\n",
       "      <td>Sub-Saharan Africa</td>\n",
       "      <td>Lagos</td>\n",
       "      <td>Lagos</td>\n",
       "      <td>6.452331</td>\n",
       "      <td>3.419044</td>\n",
       "      <td>...</td>\n",
       "      <td>0</td>\n",
       "      <td>1</td>\n",
       "      <td>Assassination</td>\n",
       "      <td>2</td>\n",
       "      <td>Government (General)</td>\n",
       "      <td>Coup plotters</td>\n",
       "      <td>5</td>\n",
       "      <td>Firearms</td>\n",
       "      <td>3.0</td>\n",
       "      <td>1.0</td>\n",
       "    </tr>\n",
       "    <tr>\n",
       "      <th>1</th>\n",
       "      <td>198001170007</td>\n",
       "      <td>1980</td>\n",
       "      <td>1</td>\n",
       "      <td>17</td>\n",
       "      <td>Nigeria</td>\n",
       "      <td>Sub-Saharan Africa</td>\n",
       "      <td>Kaduna</td>\n",
       "      <td>Kaduna</td>\n",
       "      <td>10.530204</td>\n",
       "      <td>7.437338</td>\n",
       "      <td>...</td>\n",
       "      <td>0</td>\n",
       "      <td>9</td>\n",
       "      <td>Unknown</td>\n",
       "      <td>7</td>\n",
       "      <td>Government (Diplomatic)</td>\n",
       "      <td>Zimbabwe Patriotic Front</td>\n",
       "      <td>13</td>\n",
       "      <td>Unknown</td>\n",
       "      <td>NaN</td>\n",
       "      <td>NaN</td>\n",
       "    </tr>\n",
       "  </tbody>\n",
       "</table>\n",
       "<p>2 rows × 21 columns</p>\n",
       "</div>"
      ],
      "text/plain": [
       "        eventid  iyear  imonth  iday country_txt          region_txt  \\\n",
       "0  197602130003   1976       2    13     Nigeria  Sub-Saharan Africa   \n",
       "1  198001170007   1980       1    17     Nigeria  Sub-Saharan Africa   \n",
       "\n",
       "  provstate    city   latitude  longitude  ...  suicide  attacktype1  \\\n",
       "0     Lagos   Lagos   6.452331   3.419044  ...        0            1   \n",
       "1    Kaduna  Kaduna  10.530204   7.437338  ...        0            9   \n",
       "\n",
       "   attacktype1_txt targtype1            targtype1_txt  \\\n",
       "0    Assassination         2     Government (General)   \n",
       "1          Unknown         7  Government (Diplomatic)   \n",
       "\n",
       "                      gname weaptype1  weaptype1_txt nkill  nwound  \n",
       "0             Coup plotters         5       Firearms   3.0     1.0  \n",
       "1  Zimbabwe Patriotic Front        13        Unknown   NaN     NaN  \n",
       "\n",
       "[2 rows x 21 columns]"
      ]
     },
     "execution_count": 42,
     "metadata": {},
     "output_type": "execute_result"
    }
   ],
   "source": [
    "df = pd.read_excel(\"Nigeria_terrorist_data.xlsx\")\n",
    "df.head(2)"
   ]
  },
  {
   "cell_type": "code",
   "execution_count": null,
   "id": "ceec5f1f-c072-47ff-a8f0-580d4a635c85",
   "metadata": {},
   "outputs": [],
   "source": []
  }
 ],
 "metadata": {
  "kernelspec": {
   "display_name": "Python 3 (ipykernel)",
   "language": "python",
   "name": "python3"
  },
  "language_info": {
   "codemirror_mode": {
    "name": "ipython",
    "version": 3
   },
   "file_extension": ".py",
   "mimetype": "text/x-python",
   "name": "python",
   "nbconvert_exporter": "python",
   "pygments_lexer": "ipython3",
   "version": "3.10.12"
  }
 },
 "nbformat": 4,
 "nbformat_minor": 5
}
